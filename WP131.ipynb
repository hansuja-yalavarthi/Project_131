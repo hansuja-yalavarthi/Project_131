{
  "nbformat": 4,
  "nbformat_minor": 0,
  "metadata": {
    "colab": {
      "name": "WP131.ipynb",
      "provenance": [],
      "collapsed_sections": [],
      "authorship_tag": "ABX9TyN3XpPyvWB90sG/n8XLP3U9",
      "include_colab_link": true
    },
    "kernelspec": {
      "name": "python3",
      "display_name": "Python 3"
    },
    "language_info": {
      "name": "python"
    }
  },
  "cells": [
    {
      "cell_type": "markdown",
      "metadata": {
        "id": "view-in-github",
        "colab_type": "text"
      },
      "source": [
        "<a href=\"https://colab.research.google.com/github/hansuja-yalavarthi/Project_131/blob/main/WP131.ipynb\" target=\"_parent\"><img src=\"https://colab.research.google.com/assets/colab-badge.svg\" alt=\"Open In Colab\"/></a>"
      ]
    },
    {
      "cell_type": "code",
      "execution_count": null,
      "metadata": {
        "colab": {
          "resources": {
            "http://localhost:8080/nbextensions/google.colab/files.js": {
              "data": "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",
              "ok": true,
              "headers": [
                [
                  "content-type",
                  "application/javascript"
                ]
              ],
              "status": 200,
              "status_text": ""
            }
          },
          "base_uri": "https://localhost:8080/",
          "height": 74
        },
        "id": "Xyen7bC_v1ww",
        "outputId": "ef359145-a004-457a-b5a0-a928d1314c6a"
      },
      "outputs": [
        {
          "output_type": "display_data",
          "data": {
            "text/plain": [
              "<IPython.core.display.HTML object>"
            ],
            "text/html": [
              "\n",
              "     <input type=\"file\" id=\"files-e0867322-6160-4a01-852a-756ca195d129\" name=\"files[]\" multiple disabled\n",
              "        style=\"border:none\" />\n",
              "     <output id=\"result-e0867322-6160-4a01-852a-756ca195d129\">\n",
              "      Upload widget is only available when the cell has been executed in the\n",
              "      current browser session. Please rerun this cell to enable.\n",
              "      </output>\n",
              "      <script src=\"/nbextensions/google.colab/files.js\"></script> "
            ]
          },
          "metadata": {}
        },
        {
          "output_type": "stream",
          "name": "stdout",
          "text": [
            "Saving possible.csv to possible (5).csv\n"
          ]
        }
      ],
      "source": [
        "from google.colab import files\n",
        "files = files.upload()"
      ]
    },
    {
      "cell_type": "code",
      "source": [
        "import csv\n",
        "import pandas as pd\n",
        "\n",
        "rows = []\n",
        "\n",
        "with open(\"possible.csv\",'r') as f:\n",
        "    csvreader = csv.reader(f)\n",
        "    for row in csvreader:\n",
        "        rows.append(row)\n",
        "\n",
        "headers = rows[0]\n",
        "star_data = rows[1:]\n",
        "print(headers)\n",
        "print(star_data[0])"
      ],
      "metadata": {
        "colab": {
          "base_uri": "https://localhost:8080/"
        },
        "id": "SVo4kJFWwOdh",
        "outputId": "f523560c-66b4-4cc5-d611-8df96b188971"
      },
      "execution_count": null,
      "outputs": [
        {
          "output_type": "stream",
          "name": "stdout",
          "text": [
            "['', 'Star_name', 'Distance', 'Mass', 'Radius']\n",
            "['0', 'Sun', '0.000015813', '1', '1']\n"
          ]
        }
      ]
    },
    {
      "cell_type": "code",
      "source": [
        "headers[0] = \"row_num\"\n",
        "df = pd.read_csv(\"possible.csv\")"
      ],
      "metadata": {
        "id": "r2IItlaCwySM"
      },
      "execution_count": null,
      "outputs": []
    },
    {
      "cell_type": "code",
      "source": [
        "df['Distance'] = df['Distance'].str.replace(',','')\n",
        "df['Radius'] = df['Radius'].str.replace(',','')\n",
        "df['Distance'] = df['Distance'].astype(float)\n",
        "df['Radius'] = df['Radius'].astype(float)"
      ],
      "metadata": {
        "id": "uaiiGWOeVCi9"
      },
      "execution_count": null,
      "outputs": []
    },
    {
      "cell_type": "code",
      "source": [
        "solar_mass_list = df[\"Mass\"].tolist()\n",
        "solar_radius_list = df[\"Radius\"].tolist()\n",
        "\n",
        "solar_mass_list.pop(0)\n",
        "solar_radius_list.pop(0)"
      ],
      "metadata": {
        "colab": {
          "base_uri": "https://localhost:8080/"
        },
        "id": "mEI46wwVVVb7",
        "outputId": "efb50e1b-9268-404e-b646-17bb1259fc86"
      },
      "execution_count": null,
      "outputs": [
        {
          "output_type": "execute_result",
          "data": {
            "text/plain": [
              "1.0"
            ]
          },
          "metadata": {},
          "execution_count": 5
        }
      ]
    },
    {
      "cell_type": "code",
      "source": [
        "star_solar_mass_si_unit = []\n",
        "\n",
        "for data in solar_mass_list:\n",
        "\n",
        "    si_unit = float(data)*1.989e+30\n",
        "    star_solar_mass_si_unit.append(si_unit)\n",
        "\n",
        "print(star_solar_mass_si_unit)"
      ],
      "metadata": {
        "colab": {
          "base_uri": "https://localhost:8080/"
        },
        "id": "dvkIaRtOxRq0",
        "outputId": "de85f81c-091c-4d4a-ab96-af70ed837504"
      },
      "execution_count": null,
      "outputs": [
        {
          "output_type": "stream",
          "name": "stdout",
          "text": [
            "[4.1769e+30, 2.9835e+31, 2.1879e+30, 2.1879e+30, 4.3758e+30, 5.1714e+30, 4.574699999999999e+31, 2.9835e+30, 3.978e+31, 1.33263e+31, 2.08845e+31, 3.5802e+30, 3.5801999999999996e+31, 2.9835e+30, 2.3868e+31, 2.2734269999999998e+31, 3.7790999999999997e+30, 3.7790999999999997e+30, 3.7791e+31, 3.1824e+31, 7.558199999999999e+30, 2.48625e+31, 2.88405e+31, 5.5692e+30, 2.9835e+30, 1.7105399999999998e+31, 9.945e+30, 6.9615e+30, 6.3648e+31, 1.7900999999999998e+31, 7.956e+30, 5.7681e+30, 6.5637e+31, 8.453249999999999e+30, 1.6906499999999999e+31, 3.3812999999999997e+31, 1.13373e+31, 6.9615e+30, 1.7900999999999998e+31, 1.2132899999999998e+31, 4.75371e+30, 1.3923e+31, 5.5692e+30, 1.17351e+31, 4.7735999999999997e+30, 2.68515e+31, 1.07406e+31, 5.967e+30, 4.1769e+30, 2.9835e+31, 5.5692e+30, 1.557387e+30, 1.9710989999999998e+30, 1.6309799999999997e+30, 3.978e+31, 1.989e+32, 8.950499999999999e+30, 3.8188799999999997e+31, 2.52603e+30, 4.3758e+31, 5.967e+31, 3.61998e+31, 1.3923e+30, 1.5912e+30, 3.16251e+30, 1.6906499999999997e+30, 1.51164e+30, 2.3867999999999998e+30, 2.76471e+31, 1.1933999999999999e+30, 9.945e+29, 3.978e+30, 1.5912e+30, 3.3812999999999997e+31, 1.989e+32, 4.7736e+31, 1.3923e+31, 2.7846e+29, 7.956e+28, 2.3868e+29, 2.84427e+30, 5.7680999999999994e+32, 3.75921e+32, 3.7791e+31, 1.1432771999999998e+32, 2.00889e+30, 3.1824e+29, 9.945e+31, 1.4917499999999999e+29, 3.978e+31, 1.7702099999999997e+29, 1.3923e+29, 5.967e+27, 6.5637e+31, 9.113642553599999e+28, 3.6074835108e+28, 1.49995367028e+29, 5.8858941492000005e+28, 1.02528478728e+29, 5.5061590427999995e+28, 7.974437234399999e+28, 7.974437234399999e+28, 4.3669537235999995e+28, 2.2784106383999997e+28, 7.594702128e+28, 5.5061590427999995e+28, 9.873112766399999e+28, 9.873112766399999e+28, 3.797351064e+28, 3.797351064e+28, 8.9237750004e+28, 8.9237750004e+28, 2.848013298e+28, 3.797351064e+28, 5.1264239364e+28, 6.265629255599999e+28, 1.48096691496e+29, 1.5189404256e+29, 1.2341390958e+29, 1.2341390958e+29, 1.5189404256e+29, 9.3035101068e+28, 1.67083446816e+29, 4.3669537235999995e+28, 8.544039894e+28, 3.4176159576e+28, 1.02528478728e+29, 1.3860331383599998e+29, 1.3860331383599998e+29, 1.40501989368e+29, 1.0442715426e+29, 1.93664904264e+29, 3.797351064e+28, 5.696026596e+28, 1.5189404256e+29, 1.8986755319999998e+29, 7.4048345748e+28, 9.113642553599999e+28, 4.1770861704e+28, 1.21515234048e+29, 1.974623508e+27, 1.21515234048e+29, 3.987218617199999e+28, 8.9237750004e+28, 1.2910993617600001e+29, 1.1581920745199998e+29, 5.3162914895999995e+28, 7.2149670216e+28, 1.0632582979199999e+29, 1.27211260644e+29, 1.4240066489999998e+29, 1.36704638304e+29, 4.9365563831999995e+28, 7.784569681199999e+28, 7.0250994684e+28, 8.1643047876e+28, 1.3480596277199998e+29, 3.816338058e+27, 8.3541723408e+28, 9.873112766399999e+28, 9.113642553599999e+28, 1.67083446816e+29, 8.733907447199999e+28, 1.1771788298400001e+29, 1.21515234048e+29, 1.46198015964e+29, 9.493377659999999e+28, 7.974437234399999e+28, 6.0757617024e+28, 9.3035101068e+28, 8.3541723408e+28, 9.6832452132e+28, 5.1264239364e+28, 9.3035101068e+28, 7.974437234399999e+28, 1.46198015964e+29, 8.1643047876e+28, 7.594702128e+28, 1.21515234048e+29, 6.8352319152e+28, 1.5189404256e+28, 1.7088079788e+28, 6.265629255599999e+28, 5.696026596e+28, 7.0250994684e+28, 1.21515234048e+29, 3.2277484044000003e+28, 7.974437234399999e+28, 7.784569681199999e+28, 3.797351064e+27, 8.9237750004e+28, 1.19616558516e+29, 1.1012318085599999e+29, 1.27211260644e+29, 9.6832452132e+28, 8.3541723408e+28, 1.19616558516e+29, 6.0757617024e+28, 1.12021856388e+29, 3.987218617199999e+28, 1.44299340432e+29, 1.36704638304e+29, 1.7467814894399998e+29, 1.12021856388e+29, 2.1075298803e+28, 1.7088079788e+28, 1.4240066489999998e+29, 8.3541723408e+28, 8.3541723408e+28, 1.3100861170799998e+29, 1.1392053192e+29, 1.49995367028e+29, 1.08224505324e+29, 1.02528478728e+29, 1.19616558516e+29, 8.3541723408e+28, 5.696026596e+28, 1.3480596277199998e+29, 7.974437234399999e+28, 8.1643047876e+28, 1.3480596277199998e+29, 9.3035101068e+28, 7.784569681199999e+28, 1.3860331383599998e+29, 4.5568212767999995e+28, 8.9237750004e+28, 8.544039894e+28, 1.46198015964e+29, 1.27211260644e+29, 1.8227285107199998e+29, 4.7466888299999995e+28, 8.733907447199999e+28, 1.3290728724000001e+29, 1.3100861170799998e+29, 1.2341390957999999e+28, 1.78475500008e+29, 8.733907447199999e+28, 1.0442715426e+29, 4.1770861704e+28, 5.1264239364e+28, 1.1581920745199998e+29, 7.974437234399999e+28, 1.3860331383599998e+29, 2.2784106383999997e+28, 4.5568212767999995e+28, 3.2277484044000003e+28, 1.67083446816e+29, 1.5189404256e+29, 1.1392053191999999e+28, 2.848013298e+28, 1.898675532e+28, 5.696026596e+28]\n"
          ]
        }
      ]
    },
    {
      "cell_type": "code",
      "source": [
        "star_solar_radius_si_unit = []\n",
        "\n",
        "for data in solar_radius_list:\n",
        "    si_unit = float(data)* 6.957e+8\n",
        "    star_solar_radius_si_unit.append(si_unit)\n",
        "\n",
        "print(star_solar_radius_si_unit)"
      ],
      "metadata": {
        "colab": {
          "base_uri": "https://localhost:8080/"
        },
        "id": "DrdJcc-9xfq3",
        "outputId": "98147349-0f34-492b-9564-334a152d20f2"
      },
      "execution_count": null,
      "outputs": [
        {
          "output_type": "stream",
          "name": "stdout",
          "text": [
            "[1189647000.0, 49394700000.0, 834840000.0, 18088200000.0, 1878390000.0000002, 8348400000.0, 54890730000.00001, 1321830000.0, 660915000000.0, 6470010000.000001, 5983020000.0, 1252260000.0, 6191730000.0, 30610800000.0, 473076000000.0, 5196879000.0, 6122160000.000001, 1252260000.0, 141227100000.0, 5843880000.0, 2156670000.0, 9739800000.0, 6122160000.000001, 1669680000.0, 58438800000.0, 4035060000.0, 2921940000.0, 4730760000.0, 29219400000.0, 4174200000.0, 2365380000.0, 2921940000.0, 13914000000.0, 20871000000.0, 47307600000.0, 139140000000.0, 18088200000.0, 4730760000.0, 90441000000.0, 2365380000.0, 1927089000.0, 64004400000.0, 2295810000.0, 3339360000.0, 2017530000.0, 6957000000.0, 27132300000.0, 34785000000.0, 66091500000.0, 97398000000.0, 194796000000.0, 621260100.0, 848754000.0, 514818000.0, 337414500000.0, 612911700000.0, 30958650000.0, 676220400000.0, 1029636000.0, 556560000000.0, 52873200000.0, 521775000000.0, 462640500.0, 207318600000.0, 2601918000.0, 59134500000.0, 653958000.0, 257409000000.0, 805620600000.0, 354807000.0, 313065000000.0, 973979999.9999999, 2365380000.0, 987894000000.0, 222624000000.0, 264366000000.0, 525253500000.0, 139140000.0, 13914000.0, 104355000.0, 1099206000.0, 22262400000.0, 14679270000.000002, 271323000.0, 10066779000.0, 688743000.0, 146097000.0, 1321830000000.0, 69570000.0, 1113120000000.0, 83484000.0, 59830199.99999999, 59830199.99999999, 139140000.0, 70777296.90900001, 116532317.133, 77926518.81899999, 102948795.50400001, 70062374.71800001, 102233873.31300001, 67202685.954, 67202685.954, 115817394.942, 92939884.83000001, 67202685.954, 102233873.31300001, 70062374.71800001, 70062374.71800001, 115817394.942, 115102472.751, 69347452.527, 69347452.527, 109383095.22299999, 115817394.942, 100804028.93100001, 70777296.90900001, 77211596.628, 90795118.257, 135835216.29, 135835216.29, 69347452.527, 69347452.527, 82216051.965, 118677083.70599999, 67917608.145, 92939884.83000001, 70062374.71800001, 74351907.864, 102233873.31300001, 75066830.055, 270240588.198, 90795118.257, 94369729.212, 67917608.145, 77926518.81899999, 90080196.066, 140839671.627, 69347452.527, 127256149.99800001, 71492219.1, 5147439775.2, 71492219.1, 98659262.358, 69347452.527, 72207141.291, 72207141.291, 100804028.93100001, 107953250.84099999, 70777296.90900001, 72207141.291, 75066830.055, 73636985.673, 70062374.71800001, 67202685.954, 67202685.954, 67202685.954, 73636985.673, 4861470898.8, 67202685.954, 70062374.71800001, 70777296.90900001, 82216051.965, 68632530.336, 71492219.1, 71492219.1, 76496674.437, 70062374.71800001, 67202685.954, 67917608.145, 68632530.336, 67202685.954, 70062374.71800001, 100804028.93100001, 69347452.527, 67202685.954, 76496674.437, 72922063.482, 72207141.291, 71492219.1, 170866403.649, 128685994.38000001, 88650351.684, 68632530.336, 157282882.01999998, 107238328.64999999, 71492219.1, 122251694.661, 67202685.954, 67202685.954, 1787305477.5000002, 70062374.71800001, 70062374.71800001, 70062374.71800001, 72207141.291, 69347452.527, 67202685.954, 71492219.1, 68632530.336, 70777296.90900001, 94369729.212, 75781752.246, 73636985.673, 85075740.729, 70777296.90900001, 107238328.64999999, 92939884.83000001, 75066830.055, 67202685.954, 67202685.954, 72922063.482, 70777296.90900001, 77211596.628, 70777296.90900001, 70062374.71800001, 71492219.1, 67202685.954, 102233873.31300001, 73636985.673, 67202685.954, 67202685.954, 73636985.673, 69347452.527, 67202685.954, 74351907.864, 100089106.74, 69347452.527, 67917608.145, 76496674.437, 72207141.291, 87220507.302, 134405371.908, 68632530.336, 72922063.482, 72922063.482, 109383095.22299999, 86505585.111, 68632530.336, 70777296.90900001, 95084651.403, 100804028.93100001, 70777296.90900001, 67202685.954, 74351907.864, 92224962.63900001, 99374184.549, 113672628.369, 82930974.156, 77926518.81899999, 83645896.347, 300267320.22, 271670432.58, 61483308.426]\n"
          ]
        }
      ]
    },
    {
      "cell_type": "code",
      "source": [
        "star_masses = star_solar_mass_si_unit\n",
        "star_radiuses = star_solar_radius_si_unit\n",
        "star_names = df[\"Star_name\"].tolist()\n",
        "star_names.pop(0)\n",
        "\n",
        "star_gravities = []\n",
        "\n",
        "for index,data in enumerate(star_names):\n",
        "    gravity = (float(star_masses[index])*5.972e+24) / (float(star_radiuses[index])*float(star_radiuses[index])*6371000*6371000) * 6.674e-11\n",
        "    star_gravities.append(gravity)\n",
        "\n",
        "star_gravities\n",
        "\n",
        "df[\"Gravity\"] = gravity\n",
        "df"
      ],
      "metadata": {
        "colab": {
          "base_uri": "https://localhost:8080/",
          "height": 424
        },
        "id": "qcr3GVM9xhEJ",
        "outputId": "7766c711-8c14-41bd-fdca-c05f991c1d56"
      },
      "execution_count": null,
      "outputs": [
        {
          "output_type": "execute_result",
          "data": {
            "text/plain": [
              "     Unnamed: 0               Star_name    Distance       Mass     Radius  \\\n",
              "0             0                     Sun    0.000016   1.000000   1.000000   \n",
              "1             1                  Sirius    8.600000   2.100000   1.710000   \n",
              "2             2                 Canopus  310.000000  15.000000  71.000000   \n",
              "3             3          Alpha Centauri    4.400000   1.100000   1.200000   \n",
              "4             4                Arcturus   37.000000   1.100000  26.000000   \n",
              "..          ...                     ...         ...        ...        ...   \n",
              "248         248  2MASSI J2356547-155310   74.000000   0.076367   0.112012   \n",
              "249         249          WISE 0410+1502   20.000000   0.005728   0.120233   \n",
              "250         250         WISE 0458+6434A   35.900000   0.014319   0.431605   \n",
              "251         251         WISE 0458+6434B   35.900000   0.009546   0.390499   \n",
              "252         252          WISE 1405+5534   25.300000   0.028638   0.088376   \n",
              "\n",
              "          Gravity  \n",
              "0    1.479614e+14  \n",
              "1    1.479614e+14  \n",
              "2    1.479614e+14  \n",
              "3    1.479614e+14  \n",
              "4    1.479614e+14  \n",
              "..            ...  \n",
              "248  1.479614e+14  \n",
              "249  1.479614e+14  \n",
              "250  1.479614e+14  \n",
              "251  1.479614e+14  \n",
              "252  1.479614e+14  \n",
              "\n",
              "[253 rows x 6 columns]"
            ],
            "text/html": [
              "\n",
              "  <div id=\"df-f7956c76-fa6c-4312-84b5-35288ca3c905\">\n",
              "    <div class=\"colab-df-container\">\n",
              "      <div>\n",
              "<style scoped>\n",
              "    .dataframe tbody tr th:only-of-type {\n",
              "        vertical-align: middle;\n",
              "    }\n",
              "\n",
              "    .dataframe tbody tr th {\n",
              "        vertical-align: top;\n",
              "    }\n",
              "\n",
              "    .dataframe thead th {\n",
              "        text-align: right;\n",
              "    }\n",
              "</style>\n",
              "<table border=\"1\" class=\"dataframe\">\n",
              "  <thead>\n",
              "    <tr style=\"text-align: right;\">\n",
              "      <th></th>\n",
              "      <th>Unnamed: 0</th>\n",
              "      <th>Star_name</th>\n",
              "      <th>Distance</th>\n",
              "      <th>Mass</th>\n",
              "      <th>Radius</th>\n",
              "      <th>Gravity</th>\n",
              "    </tr>\n",
              "  </thead>\n",
              "  <tbody>\n",
              "    <tr>\n",
              "      <th>0</th>\n",
              "      <td>0</td>\n",
              "      <td>Sun</td>\n",
              "      <td>0.000016</td>\n",
              "      <td>1.000000</td>\n",
              "      <td>1.000000</td>\n",
              "      <td>1.479614e+14</td>\n",
              "    </tr>\n",
              "    <tr>\n",
              "      <th>1</th>\n",
              "      <td>1</td>\n",
              "      <td>Sirius</td>\n",
              "      <td>8.600000</td>\n",
              "      <td>2.100000</td>\n",
              "      <td>1.710000</td>\n",
              "      <td>1.479614e+14</td>\n",
              "    </tr>\n",
              "    <tr>\n",
              "      <th>2</th>\n",
              "      <td>2</td>\n",
              "      <td>Canopus</td>\n",
              "      <td>310.000000</td>\n",
              "      <td>15.000000</td>\n",
              "      <td>71.000000</td>\n",
              "      <td>1.479614e+14</td>\n",
              "    </tr>\n",
              "    <tr>\n",
              "      <th>3</th>\n",
              "      <td>3</td>\n",
              "      <td>Alpha Centauri</td>\n",
              "      <td>4.400000</td>\n",
              "      <td>1.100000</td>\n",
              "      <td>1.200000</td>\n",
              "      <td>1.479614e+14</td>\n",
              "    </tr>\n",
              "    <tr>\n",
              "      <th>4</th>\n",
              "      <td>4</td>\n",
              "      <td>Arcturus</td>\n",
              "      <td>37.000000</td>\n",
              "      <td>1.100000</td>\n",
              "      <td>26.000000</td>\n",
              "      <td>1.479614e+14</td>\n",
              "    </tr>\n",
              "    <tr>\n",
              "      <th>...</th>\n",
              "      <td>...</td>\n",
              "      <td>...</td>\n",
              "      <td>...</td>\n",
              "      <td>...</td>\n",
              "      <td>...</td>\n",
              "      <td>...</td>\n",
              "    </tr>\n",
              "    <tr>\n",
              "      <th>248</th>\n",
              "      <td>248</td>\n",
              "      <td>2MASSI J2356547-155310</td>\n",
              "      <td>74.000000</td>\n",
              "      <td>0.076367</td>\n",
              "      <td>0.112012</td>\n",
              "      <td>1.479614e+14</td>\n",
              "    </tr>\n",
              "    <tr>\n",
              "      <th>249</th>\n",
              "      <td>249</td>\n",
              "      <td>WISE 0410+1502</td>\n",
              "      <td>20.000000</td>\n",
              "      <td>0.005728</td>\n",
              "      <td>0.120233</td>\n",
              "      <td>1.479614e+14</td>\n",
              "    </tr>\n",
              "    <tr>\n",
              "      <th>250</th>\n",
              "      <td>250</td>\n",
              "      <td>WISE 0458+6434A</td>\n",
              "      <td>35.900000</td>\n",
              "      <td>0.014319</td>\n",
              "      <td>0.431605</td>\n",
              "      <td>1.479614e+14</td>\n",
              "    </tr>\n",
              "    <tr>\n",
              "      <th>251</th>\n",
              "      <td>251</td>\n",
              "      <td>WISE 0458+6434B</td>\n",
              "      <td>35.900000</td>\n",
              "      <td>0.009546</td>\n",
              "      <td>0.390499</td>\n",
              "      <td>1.479614e+14</td>\n",
              "    </tr>\n",
              "    <tr>\n",
              "      <th>252</th>\n",
              "      <td>252</td>\n",
              "      <td>WISE 1405+5534</td>\n",
              "      <td>25.300000</td>\n",
              "      <td>0.028638</td>\n",
              "      <td>0.088376</td>\n",
              "      <td>1.479614e+14</td>\n",
              "    </tr>\n",
              "  </tbody>\n",
              "</table>\n",
              "<p>253 rows × 6 columns</p>\n",
              "</div>\n",
              "      <button class=\"colab-df-convert\" onclick=\"convertToInteractive('df-f7956c76-fa6c-4312-84b5-35288ca3c905')\"\n",
              "              title=\"Convert this dataframe to an interactive table.\"\n",
              "              style=\"display:none;\">\n",
              "        \n",
              "  <svg xmlns=\"http://www.w3.org/2000/svg\" height=\"24px\"viewBox=\"0 0 24 24\"\n",
              "       width=\"24px\">\n",
              "    <path d=\"M0 0h24v24H0V0z\" fill=\"none\"/>\n",
              "    <path d=\"M18.56 5.44l.94 2.06.94-2.06 2.06-.94-2.06-.94-.94-2.06-.94 2.06-2.06.94zm-11 1L8.5 8.5l.94-2.06 2.06-.94-2.06-.94L8.5 2.5l-.94 2.06-2.06.94zm10 10l.94 2.06.94-2.06 2.06-.94-2.06-.94-.94-2.06-.94 2.06-2.06.94z\"/><path d=\"M17.41 7.96l-1.37-1.37c-.4-.4-.92-.59-1.43-.59-.52 0-1.04.2-1.43.59L10.3 9.45l-7.72 7.72c-.78.78-.78 2.05 0 2.83L4 21.41c.39.39.9.59 1.41.59.51 0 1.02-.2 1.41-.59l7.78-7.78 2.81-2.81c.8-.78.8-2.07 0-2.86zM5.41 20L4 18.59l7.72-7.72 1.47 1.35L5.41 20z\"/>\n",
              "  </svg>\n",
              "      </button>\n",
              "      \n",
              "  <style>\n",
              "    .colab-df-container {\n",
              "      display:flex;\n",
              "      flex-wrap:wrap;\n",
              "      gap: 12px;\n",
              "    }\n",
              "\n",
              "    .colab-df-convert {\n",
              "      background-color: #E8F0FE;\n",
              "      border: none;\n",
              "      border-radius: 50%;\n",
              "      cursor: pointer;\n",
              "      display: none;\n",
              "      fill: #1967D2;\n",
              "      height: 32px;\n",
              "      padding: 0 0 0 0;\n",
              "      width: 32px;\n",
              "    }\n",
              "\n",
              "    .colab-df-convert:hover {\n",
              "      background-color: #E2EBFA;\n",
              "      box-shadow: 0px 1px 2px rgba(60, 64, 67, 0.3), 0px 1px 3px 1px rgba(60, 64, 67, 0.15);\n",
              "      fill: #174EA6;\n",
              "    }\n",
              "\n",
              "    [theme=dark] .colab-df-convert {\n",
              "      background-color: #3B4455;\n",
              "      fill: #D2E3FC;\n",
              "    }\n",
              "\n",
              "    [theme=dark] .colab-df-convert:hover {\n",
              "      background-color: #434B5C;\n",
              "      box-shadow: 0px 1px 3px 1px rgba(0, 0, 0, 0.15);\n",
              "      filter: drop-shadow(0px 1px 2px rgba(0, 0, 0, 0.3));\n",
              "      fill: #FFFFFF;\n",
              "    }\n",
              "  </style>\n",
              "\n",
              "      <script>\n",
              "        const buttonEl =\n",
              "          document.querySelector('#df-f7956c76-fa6c-4312-84b5-35288ca3c905 button.colab-df-convert');\n",
              "        buttonEl.style.display =\n",
              "          google.colab.kernel.accessAllowed ? 'block' : 'none';\n",
              "\n",
              "        async function convertToInteractive(key) {\n",
              "          const element = document.querySelector('#df-f7956c76-fa6c-4312-84b5-35288ca3c905');\n",
              "          const dataTable =\n",
              "            await google.colab.kernel.invokeFunction('convertToInteractive',\n",
              "                                                     [key], {});\n",
              "          if (!dataTable) return;\n",
              "\n",
              "          const docLinkHtml = 'Like what you see? Visit the ' +\n",
              "            '<a target=\"_blank\" href=https://colab.research.google.com/notebooks/data_table.ipynb>data table notebook</a>'\n",
              "            + ' to learn more about interactive tables.';\n",
              "          element.innerHTML = '';\n",
              "          dataTable['output_type'] = 'display_data';\n",
              "          await google.colab.output.renderOutput(dataTable, element);\n",
              "          const docLink = document.createElement('div');\n",
              "          docLink.innerHTML = docLinkHtml;\n",
              "          element.appendChild(docLink);\n",
              "        }\n",
              "      </script>\n",
              "    </div>\n",
              "  </div>\n",
              "  "
            ]
          },
          "metadata": {},
          "execution_count": 8
        }
      ]
    },
    {
      "cell_type": "code",
      "source": [
        "df.to_csv(\"star_with_gravity.csv\")"
      ],
      "metadata": {
        "id": "_6T47nVRWCbz"
      },
      "execution_count": null,
      "outputs": []
    }
  ]
}